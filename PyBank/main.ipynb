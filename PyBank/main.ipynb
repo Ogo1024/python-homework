{
 "cells": [
  {
   "cell_type": "code",
   "execution_count": 7,
   "metadata": {},
   "outputs": [],
   "source": [
    "# Create a Python script that analyzes the PyBank records to calculate each of the following:\n",
    "#     1. The total number of months included in the dataset\n",
    "#     2. The net total amount of \"Profit/Losses\" over the entire period\n",
    "#     3. The average of the changes in \"Profit/Losses\" over the entire period\n",
    "#     4. The greatest increase in profits (date and amount) over the entire period\n",
    "#     5. The greatest decrease in losses (date and amount) over the entire period\n",
    "#     6. Print the analysis to the terminal and export a text file with the results\n",
    "\n",
    "# Import libraries and dependencies\n",
    "from pathlib import Path\n",
    "import csv"
   ]
  },
  {
   "cell_type": "code",
   "execution_count": 8,
   "metadata": {},
   "outputs": [],
   "source": [
    "# Set the path for input data\n",
    "csv_file = Path('../PyBank/Resources/budget_data.csv')"
   ]
  },
  {
   "cell_type": "code",
   "execution_count": 9,
   "metadata": {},
   "outputs": [],
   "source": [
    "# Initialize PyBank variables\n",
    "month = []\n",
    "profit_loss = []\n",
    "pnl_change = []\n",
    "count_month = 0\n",
    "net_profit_loss = 0\n",
    "# pnl_change = 0\n",
    "adj_pnl_change = 0"
   ]
  },
  {
   "cell_type": "code",
   "execution_count": 10,
   "metadata": {},
   "outputs": [],
   "source": [
    "# Open CSV file and read in variable called budget_data\n",
    "with open(csv_file, 'r') as budget_data:\n",
    "    csv_reader = csv.DictReader(budget_data)\n",
    "# Iterate through elements in dictionary  \n",
    "    for row in csv_reader:   \n",
    "        month.append(row[\"Date\"])\n",
    "        profit_loss.append(row[\"Profit/Losses\"])\n",
    "        # Count the total number of months from dataset\n",
    "        count_month = int(len(month))\n",
    "        # Calculate net total amount of profit/loss for entire period in dataset\n",
    "        net_profit_loss += int(row[\"Profit/Losses\"])\n",
    "pnl_change.append(0)       "
   ]
  },
  {
   "cell_type": "code",
   "execution_count": 11,
   "metadata": {},
   "outputs": [
    {
     "name": "stdout",
     "output_type": "stream",
     "text": [
      "86\n"
     ]
    }
   ],
   "source": [
    "for pnl in range(1,count_month):\n",
    "    pnl_change.append(int(profit_loss[pnl]) - int(profit_loss[pnl-1]))\n",
    "    pnl_ignore = (int(profit_loss[0]) - int(profit_loss[-1]))\n",
    "print(len(pnl_change))"
   ]
  },
  {
   "cell_type": "code",
   "execution_count": 28,
   "metadata": {},
   "outputs": [],
   "source": [
    "# Average change in profit/Losses over entire period\n",
    "avg_pnl_change = round(sum(pnl_change)/len(pnl_change),4)"
   ]
  },
  {
   "cell_type": "code",
   "execution_count": 29,
   "metadata": {},
   "outputs": [],
   "source": [
    "# Greatest increase in profits\n",
    "max_pnl_return = max(pnl_change)\n",
    "max_pnl_index = pnl_change.index(max_pnl_return)\n",
    "max_pnl_month = month[max_pnl_index]"
   ]
  },
  {
   "cell_type": "code",
   "execution_count": 30,
   "metadata": {},
   "outputs": [],
   "source": [
    "# Greatest decrease in profits\n",
    "min_pnl_return = min(pnl_change)\n",
    "min_pnl_index = pnl_change.index(min_pnl_return)\n",
    "min_pnl_month = month[min_pnl_index]"
   ]
  },
  {
   "cell_type": "code",
   "execution_count": 31,
   "metadata": {},
   "outputs": [
    {
     "name": "stdout",
     "output_type": "stream",
     "text": [
      "Financial Analysis for budget_data_2.csv:\n",
      "\n",
      "----------------------------------------\n",
      "\n",
      "Total Months: 86\n",
      "Total Revenue: $38382578\n",
      "Average Revenue Change: $-2288.1977\n",
      "Greatest Increase in Revenue: Feb-2012 $1926159\n",
      "Greatest Decrease in Revenue: Sep-2013 $-2196167\n",
      "\n"
     ]
    }
   ],
   "source": [
    "file_name = \"budget_data_2\" + \".csv\"\n",
    "#print analysis to terminal\n",
    "print(f\"Financial Analysis for {file_name}:\")\n",
    "print(\"\\n\" + \"-\"*40 + \"\\n\")\n",
    "print(f\"Total Months: {count_month}\")\n",
    "print(f\"Total Revenue: ${net_profit_loss}\")\n",
    "print(f\"Average Revenue Change: ${avg_pnl_change}\")\n",
    "print(f\"Greatest Increase in Revenue: {max_pnl_month} ${max_pnl_return}\")\n",
    "print(f\"Greatest Decrease in Revenue: {min_pnl_month} ${min_pnl_return}\")\n",
    "print(\"\")\n",
    "        "
   ]
  },
  {
   "cell_type": "code",
   "execution_count": 32,
   "metadata": {},
   "outputs": [],
   "source": [
    "# Set the output file path\n",
    "file_to_output = 'financial_analysis.txt'\n",
    "\n",
    "# Open the output_path as a file object in \"write\" mode ('w')\n",
    "# Write header line and write the contents of 'text' to the file\n",
    "\n",
    "with open(file_to_output, 'w') as file:\n",
    "    file.write(\"Financial Analysis\")\n",
    "    file.write(\"\\n\" + \"-\"*40 + \"\\n\")\n",
    "    file.write(f\"\\n Total Months: {count_month}\")\n",
    "    file.write(f\"\\n Total Revenue: ${net_profit_loss}\")\n",
    "    file.write(f\"\\n Average Revenue Change: ${avg_pnl_change}\")\n",
    "    file.write(f\"\\n Greatest Increase in Revenue: {max_pnl_month} ${max_pnl_return} \")\n",
    "    file.write(f\"\\n Greatest Decrease in Revenue: {min_pnl_month} ${min_pnl_return} \")"
   ]
  },
  {
   "cell_type": "code",
   "execution_count": null,
   "metadata": {},
   "outputs": [],
   "source": []
  },
  {
   "cell_type": "code",
   "execution_count": null,
   "metadata": {},
   "outputs": [],
   "source": []
  },
  {
   "cell_type": "code",
   "execution_count": null,
   "metadata": {},
   "outputs": [],
   "source": []
  },
  {
   "cell_type": "code",
   "execution_count": null,
   "metadata": {},
   "outputs": [],
   "source": []
  },
  {
   "cell_type": "code",
   "execution_count": null,
   "metadata": {},
   "outputs": [],
   "source": []
  }
 ],
 "metadata": {
  "kernelspec": {
   "display_name": "Python 3",
   "language": "python",
   "name": "python3"
  },
  "language_info": {
   "codemirror_mode": {
    "name": "ipython",
    "version": 3
   },
   "file_extension": ".py",
   "mimetype": "text/x-python",
   "name": "python",
   "nbconvert_exporter": "python",
   "pygments_lexer": "ipython3",
   "version": "3.7.7"
  }
 },
 "nbformat": 4,
 "nbformat_minor": 4
}
